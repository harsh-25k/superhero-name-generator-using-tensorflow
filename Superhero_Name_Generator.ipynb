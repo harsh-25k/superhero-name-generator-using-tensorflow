{
  "cells": [
    {
      "cell_type": "markdown",
      "metadata": {
        "id": "view-in-github",
        "colab_type": "text"
      },
      "source": [
        "<a href=\"https://colab.research.google.com/github/harsh-25k/superhero-name-generator-using-tensorflow/blob/main/Superhero_Name_Generator.ipynb\" target=\"_parent\"><img src=\"https://colab.research.google.com/assets/colab-badge.svg\" alt=\"Open In Colab\"/></a>"
      ]
    },
    {
      "cell_type": "markdown",
      "metadata": {
        "id": "21XXWP7Fpt2L"
      },
      "source": [
        "# Superhero (and Supervillain) Name Generator\n",
        "\n",
        "---\n",
        "\n",
        "[Superhero Names Dataset](https://github.com/am1tyadav/superhero)"
      ]
    },
    {
      "cell_type": "markdown",
      "metadata": {
        "id": "H6P0NU5Cpt2R"
      },
      "source": [
        "## Task 2\n",
        "\n",
        "1. Import the data\n",
        "2. Create a tokenizer\n",
        "3. Char to index and Index to char dictionaries"
      ]
    },
    {
      "cell_type": "code",
      "execution_count": null,
      "metadata": {
        "id": "srULhalZpt2M",
        "colab": {
          "base_uri": "https://localhost:8080/"
        },
        "outputId": "cd9fa9af-b4d9-4cf2-dabc-9a835a541659"
      },
      "outputs": [
        {
          "output_type": "stream",
          "name": "stdout",
          "text": [
            "Cloning into 'superhero'...\n",
            "remote: Enumerating objects: 8, done.\u001b[K\n",
            "remote: Counting objects: 100% (8/8), done.\u001b[K\n",
            "remote: Compressing objects: 100% (7/7), done.\u001b[K\n",
            "remote: Total 8 (delta 0), reused 4 (delta 0), pack-reused 0\u001b[K\n",
            "Unpacking objects: 100% (8/8), done.\n"
          ]
        }
      ],
      "source": [
        "!git clone https://github.com/am1tyadav/superhero"
      ]
    },
    {
      "cell_type": "code",
      "execution_count": null,
      "metadata": {
        "id": "uq4CLmsLpt2P",
        "colab": {
          "base_uri": "https://localhost:8080/",
          "height": 36
        },
        "outputId": "e0a07bb1-c158-4609-dcf5-f62a4c722f94"
      },
      "outputs": [
        {
          "output_type": "execute_result",
          "data": {
            "text/plain": [
              "'jumpa\\t\\ndoctor fate\\t\\nstarlight\\t\\nisildur\\t\\nlasher\\t\\nvarvara\\t\\nthe target\\t\\naxel\\t\\nbattra\\t\\nchangeling\\t\\npyrrh'"
            ],
            "application/vnd.google.colaboratory.intrinsic+json": {
              "type": "string"
            }
          },
          "metadata": {},
          "execution_count": 2
        }
      ],
      "source": [
        "with open('superhero/superheroes.txt', 'r') as f:\n",
        "  data = f.read()\n",
        "\n",
        "data[:100]"
      ]
    },
    {
      "cell_type": "code",
      "execution_count": null,
      "metadata": {
        "id": "JqhtLuAHpt2R",
        "colab": {
          "base_uri": "https://localhost:8080/"
        },
        "outputId": "1675e6c6-bd1b-41f1-98d9-6a41f55dae41"
      },
      "outputs": [
        {
          "output_type": "stream",
          "name": "stdout",
          "text": [
            "2.8.2\n"
          ]
        }
      ],
      "source": [
        "import tensorflow as tf\n",
        "print(tf.__version__)"
      ]
    },
    {
      "cell_type": "code",
      "execution_count": null,
      "metadata": {
        "id": "95Lo1Yqzpt2T"
      },
      "outputs": [],
      "source": [
        "tokenizer = tf.keras.preprocessing.text.Tokenizer(\n",
        "    filters='!\"#$%&()*+,-./:;<=>?@[\\\\]^_`{|}~',\n",
        "    split='\\n',\n",
        ")"
      ]
    },
    {
      "cell_type": "code",
      "execution_count": null,
      "metadata": {
        "id": "qYfC4sj2pt2V"
      },
      "outputs": [],
      "source": [
        "tokenizer.fit_on_texts(data)"
      ]
    },
    {
      "cell_type": "code",
      "execution_count": null,
      "metadata": {
        "id": "EO4-dPM6pt2X",
        "colab": {
          "base_uri": "https://localhost:8080/"
        },
        "outputId": "970c5968-0a3a-4dd8-e69e-dbb2ff24f3ee"
      },
      "outputs": [
        {
          "output_type": "stream",
          "name": "stdout",
          "text": [
            "{1: '\\t', 2: 'a', 3: 'e', 4: 'r', 5: 'o', 6: 'n', 7: 'i', 8: ' ', 9: 't', 10: 's', 11: 'l', 12: 'm', 13: 'h', 14: 'd', 15: 'c', 16: 'u', 17: 'g', 18: 'k', 19: 'b', 20: 'p', 21: 'y', 22: 'w', 23: 'f', 24: 'v', 25: 'j', 26: 'z', 27: 'x', 28: 'q'}\n"
          ]
        }
      ],
      "source": [
        "char_to_index = tokenizer.word_index\n",
        "index_to_char = dict((v,k) for k, v in char_to_index.items())\n",
        "\n",
        "print(index_to_char)"
      ]
    },
    {
      "cell_type": "markdown",
      "metadata": {
        "id": "SMwtIw_Bpt2Z"
      },
      "source": [
        "## Task 3\n",
        "\n",
        "1. Converting between names and sequences"
      ]
    },
    {
      "cell_type": "code",
      "execution_count": null,
      "metadata": {
        "id": "N7iQLIXzpt2a",
        "colab": {
          "base_uri": "https://localhost:8080/"
        },
        "outputId": "ee844f78-0aae-41f6-b547-590a1aac76ff"
      },
      "outputs": [
        {
          "output_type": "execute_result",
          "data": {
            "text/plain": [
              "['jumpa\\t',\n",
              " 'doctor fate\\t',\n",
              " 'starlight\\t',\n",
              " 'isildur\\t',\n",
              " 'lasher\\t',\n",
              " 'varvara\\t',\n",
              " 'the target\\t',\n",
              " 'axel\\t',\n",
              " 'battra\\t',\n",
              " 'changeling\\t']"
            ]
          },
          "metadata": {},
          "execution_count": 7
        }
      ],
      "source": [
        "names = data.splitlines()\n",
        "names[:10]"
      ]
    },
    {
      "cell_type": "code",
      "execution_count": null,
      "metadata": {
        "id": "n_-TTfqipt2c",
        "colab": {
          "base_uri": "https://localhost:8080/"
        },
        "outputId": "5e4b7332-219c-41d4-a2cd-27b5f73841e3"
      },
      "outputs": [
        {
          "output_type": "execute_result",
          "data": {
            "text/plain": [
              "[[25], [16], [12], [20], [2], [1]]"
            ]
          },
          "metadata": {},
          "execution_count": 8
        }
      ],
      "source": [
        "tokenizer.texts_to_sequences(names[0])"
      ]
    },
    {
      "cell_type": "code",
      "execution_count": null,
      "metadata": {
        "id": "P6IsKH1Upt2e"
      },
      "outputs": [],
      "source": [
        "def name_to_seq(name):\n",
        "  return [tokenizer.texts_to_sequences(c)[0][0] for c in name]"
      ]
    },
    {
      "cell_type": "code",
      "execution_count": null,
      "metadata": {
        "id": "TuLUiMP3pt2g",
        "colab": {
          "base_uri": "https://localhost:8080/"
        },
        "outputId": "a7eb97ee-4a1b-41d2-ed70-aa60b41997c9"
      },
      "outputs": [
        {
          "output_type": "execute_result",
          "data": {
            "text/plain": [
              "[25, 16, 12, 20, 2, 1]"
            ]
          },
          "metadata": {},
          "execution_count": 10
        }
      ],
      "source": [
        "name_to_seq(names[0])"
      ]
    },
    {
      "cell_type": "code",
      "execution_count": null,
      "metadata": {
        "id": "yFUYhimKpt2h"
      },
      "outputs": [],
      "source": [
        "def seq_to_name(seq):\n",
        "  return ''.join([index_to_char [i] for i in seq if i!= 0])"
      ]
    },
    {
      "cell_type": "code",
      "execution_count": null,
      "metadata": {
        "id": "ROhCqmhLpt2k",
        "colab": {
          "base_uri": "https://localhost:8080/",
          "height": 36
        },
        "outputId": "bf94d81c-8139-45dd-e2d5-fa4dfb90c9c1"
      },
      "outputs": [
        {
          "output_type": "execute_result",
          "data": {
            "text/plain": [
              "'jumpa\\t'"
            ],
            "application/vnd.google.colaboratory.intrinsic+json": {
              "type": "string"
            }
          },
          "metadata": {},
          "execution_count": 12
        }
      ],
      "source": [
        "seq_to_name(name_to_seq(names[0]))"
      ]
    },
    {
      "cell_type": "markdown",
      "metadata": {
        "id": "uCbAzsNjpt2m"
      },
      "source": [
        "## Task 4\n",
        "\n",
        "1. Creating sequences\n",
        "2. Padding all sequences"
      ]
    },
    {
      "cell_type": "code",
      "execution_count": null,
      "metadata": {
        "id": "zstNn-0dpt2m"
      },
      "outputs": [],
      "source": [
        "sequences = []\n",
        "\n",
        "for name in names:\n",
        "  seq = name_to_seq(name)\n",
        "  if len(seq) >= 2:\n",
        "    sequences += [seq[:i] for i in range(2,len(seq) + 1)]"
      ]
    },
    {
      "cell_type": "code",
      "execution_count": null,
      "metadata": {
        "id": "BjRTMysvpt2o",
        "colab": {
          "base_uri": "https://localhost:8080/"
        },
        "outputId": "78de01e9-ca8f-4d24-ffe5-e57b9d8a210e"
      },
      "outputs": [
        {
          "output_type": "execute_result",
          "data": {
            "text/plain": [
              "[[25, 16],\n",
              " [25, 16, 12],\n",
              " [25, 16, 12, 20],\n",
              " [25, 16, 12, 20, 2],\n",
              " [25, 16, 12, 20, 2, 1],\n",
              " [14, 5],\n",
              " [14, 5, 15],\n",
              " [14, 5, 15, 9],\n",
              " [14, 5, 15, 9, 5],\n",
              " [14, 5, 15, 9, 5, 4]]"
            ]
          },
          "metadata": {},
          "execution_count": 14
        }
      ],
      "source": [
        "sequences[:10]"
      ]
    },
    {
      "cell_type": "code",
      "execution_count": null,
      "metadata": {
        "id": "SR68pu2tpt2q",
        "colab": {
          "base_uri": "https://localhost:8080/"
        },
        "outputId": "fbd5c928-de26-434b-f441-274ebb3ff0f9"
      },
      "outputs": [
        {
          "output_type": "stream",
          "name": "stdout",
          "text": [
            "33\n"
          ]
        }
      ],
      "source": [
        "max_len = max([len(x) for x in sequences])\n",
        "print(max_len)"
      ]
    },
    {
      "cell_type": "code",
      "execution_count": null,
      "metadata": {
        "id": "h_1BtWO7pt2r",
        "colab": {
          "base_uri": "https://localhost:8080/"
        },
        "outputId": "aa4cdda9-40af-4753-ccfe-afc3d357ad85"
      },
      "outputs": [
        {
          "output_type": "stream",
          "name": "stdout",
          "text": [
            "[ 0  0  0  0  0  0  0  0  0  0  0  0  0  0  0  0  0  0  0  0  0  0  0  0\n",
            "  0  0  0  0  0  0  0 25 16]\n"
          ]
        }
      ],
      "source": [
        "padded_sequences = tf.keras.preprocessing.sequence.pad_sequences(\n",
        "    sequences, padding = 'pre',\n",
        "    maxlen = max_len\n",
        ")\n",
        "\n",
        "print(padded_sequences[0])"
      ]
    },
    {
      "cell_type": "code",
      "execution_count": null,
      "metadata": {
        "id": "sPlrLRpSpt2t",
        "colab": {
          "base_uri": "https://localhost:8080/"
        },
        "outputId": "996b77a7-8e05-4acc-abae-2f84709f7373"
      },
      "outputs": [
        {
          "output_type": "execute_result",
          "data": {
            "text/plain": [
              "(88279, 33)"
            ]
          },
          "metadata": {},
          "execution_count": 17
        }
      ],
      "source": [
        "padded_sequences.shape"
      ]
    },
    {
      "cell_type": "markdown",
      "metadata": {
        "id": "I0dQ4YnIiM5y"
      },
      "source": [
        "## Task 5: Creating Training and Validation Sets\n",
        "\n",
        "1. Creating training and validation sets"
      ]
    },
    {
      "cell_type": "code",
      "execution_count": null,
      "metadata": {
        "id": "BE4BIeSnpt2v",
        "colab": {
          "base_uri": "https://localhost:8080/"
        },
        "outputId": "90a2f565-5c7e-4ca2-f70a-7c95b2b353d5"
      },
      "outputs": [
        {
          "output_type": "stream",
          "name": "stdout",
          "text": [
            "(88279, 32) (88279,)\n"
          ]
        }
      ],
      "source": [
        "x, y = padded_sequences[:, : -1], padded_sequences[:, -1]\n",
        "print(x.shape, y.shape)"
      ]
    },
    {
      "cell_type": "code",
      "execution_count": null,
      "metadata": {
        "id": "Ur_0qzhfiM5y",
        "colab": {
          "base_uri": "https://localhost:8080/"
        },
        "outputId": "effb8df7-cf8a-4ed3-f133-71cd4ec970bf"
      },
      "outputs": [
        {
          "output_type": "stream",
          "name": "stdout",
          "text": [
            "(66209, 32) (66209,)\n",
            "(22070, 32) (22070,)\n"
          ]
        }
      ],
      "source": [
        "from sklearn.model_selection import train_test_split\n",
        "\n",
        "x_train, x_test, y_train, y_test = train_test_split(x, y)\n",
        "\n",
        "print(x_train.shape, y_train.shape)\n",
        "print(x_test.shape, y_test.shape)"
      ]
    },
    {
      "cell_type": "code",
      "execution_count": null,
      "metadata": {
        "id": "cgqRZtqnpt2x",
        "colab": {
          "base_uri": "https://localhost:8080/"
        },
        "outputId": "4b8390f1-2f24-4f76-d609-fc9cb2914a83"
      },
      "outputs": [
        {
          "output_type": "stream",
          "name": "stdout",
          "text": [
            "29\n"
          ]
        }
      ],
      "source": [
        "num_chars = len(char_to_index.keys()) + 1\n",
        "print(num_chars)"
      ]
    },
    {
      "cell_type": "markdown",
      "metadata": {
        "id": "-X9q6PqpiM5y"
      },
      "source": [
        "## Task 6: Creating the Model"
      ]
    },
    {
      "cell_type": "code",
      "execution_count": null,
      "metadata": {
        "id": "5c4RJMZviM5z",
        "colab": {
          "base_uri": "https://localhost:8080/"
        },
        "outputId": "beda6df3-20ad-41c7-de6d-7f8406bb33c2"
      },
      "outputs": [
        {
          "output_type": "stream",
          "name": "stdout",
          "text": [
            "Model: \"sequential\"\n",
            "_________________________________________________________________\n",
            " Layer (type)                Output Shape              Param #   \n",
            "=================================================================\n",
            " embedding (Embedding)       (None, 32, 8)             232       \n",
            "                                                                 \n",
            " conv1d (Conv1D)             (None, 32, 64)            2624      \n",
            "                                                                 \n",
            " max_pooling1d (MaxPooling1D  (None, 16, 64)           0         \n",
            " )                                                               \n",
            "                                                                 \n",
            " lstm (LSTM)                 (None, 32)                12416     \n",
            "                                                                 \n",
            " dense (Dense)               (None, 29)                957       \n",
            "                                                                 \n",
            "=================================================================\n",
            "Total params: 16,229\n",
            "Trainable params: 16,229\n",
            "Non-trainable params: 0\n",
            "_________________________________________________________________\n"
          ]
        }
      ],
      "source": [
        "from tensorflow.keras.models import Sequential\n",
        "from tensorflow.keras.layers import Embedding, Conv1D, MaxPool1D, LSTM, Bidirectional, Dense\n",
        "\n",
        "model = Sequential([\n",
        "    Embedding(num_chars, 8, input_length = max_len - 1),\n",
        "    Conv1D(64, 5, strides = 1, activation = 'tanh', padding = 'causal'),\n",
        "    MaxPool1D(2),\n",
        "    LSTM(32),\n",
        "    Dense(num_chars, activation = 'softmax')\n",
        "])\n",
        "\n",
        "model.compile(\n",
        "    loss = 'sparse_categorical_crossentropy',\n",
        "    optimizer = 'adam',\n",
        "    metrics = ['accuracy']\n",
        ")\n",
        "\n",
        "model.summary()"
      ]
    },
    {
      "cell_type": "markdown",
      "metadata": {
        "id": "tK00p5raiM5z"
      },
      "source": [
        "## Task 7: Training the Model"
      ]
    },
    {
      "cell_type": "code",
      "execution_count": null,
      "metadata": {
        "id": "j0Ssl4qupt22",
        "colab": {
          "base_uri": "https://localhost:8080/"
        },
        "outputId": "ef4b1e34-bfdd-46c4-e423-3291515519ea"
      },
      "outputs": [
        {
          "output_type": "stream",
          "name": "stdout",
          "text": [
            "Epoch 1/50\n",
            "2070/2070 - 29s - loss: 2.7396 - accuracy: 0.1925 - val_loss: 2.5863 - val_accuracy: 0.2275 - 29s/epoch - 14ms/step\n",
            "Epoch 2/50\n",
            "2070/2070 - 11s - loss: 2.5129 - accuracy: 0.2411 - val_loss: 2.4931 - val_accuracy: 0.2494 - 11s/epoch - 5ms/step\n",
            "Epoch 3/50\n",
            "2070/2070 - 11s - loss: 2.4405 - accuracy: 0.2617 - val_loss: 2.4388 - val_accuracy: 0.2684 - 11s/epoch - 5ms/step\n",
            "Epoch 4/50\n",
            "2070/2070 - 11s - loss: 2.3932 - accuracy: 0.2745 - val_loss: 2.4026 - val_accuracy: 0.2765 - 11s/epoch - 5ms/step\n",
            "Epoch 5/50\n",
            "2070/2070 - 12s - loss: 2.3541 - accuracy: 0.2859 - val_loss: 2.3731 - val_accuracy: 0.2817 - 12s/epoch - 6ms/step\n",
            "Epoch 6/50\n",
            "2070/2070 - 11s - loss: 2.3209 - accuracy: 0.2935 - val_loss: 2.3444 - val_accuracy: 0.2912 - 11s/epoch - 5ms/step\n",
            "Epoch 7/50\n",
            "2070/2070 - 11s - loss: 2.2919 - accuracy: 0.3030 - val_loss: 2.3288 - val_accuracy: 0.2963 - 11s/epoch - 5ms/step\n",
            "Epoch 8/50\n",
            "2070/2070 - 12s - loss: 2.2669 - accuracy: 0.3093 - val_loss: 2.3141 - val_accuracy: 0.3017 - 12s/epoch - 6ms/step\n",
            "Epoch 9/50\n",
            "2070/2070 - 12s - loss: 2.2440 - accuracy: 0.3170 - val_loss: 2.2981 - val_accuracy: 0.3068 - 12s/epoch - 6ms/step\n",
            "Epoch 10/50\n",
            "2070/2070 - 11s - loss: 2.2232 - accuracy: 0.3232 - val_loss: 2.2832 - val_accuracy: 0.3085 - 11s/epoch - 5ms/step\n",
            "Epoch 11/50\n",
            "2070/2070 - 11s - loss: 2.2037 - accuracy: 0.3280 - val_loss: 2.2694 - val_accuracy: 0.3157 - 11s/epoch - 5ms/step\n",
            "Epoch 12/50\n",
            "2070/2070 - 12s - loss: 2.1868 - accuracy: 0.3343 - val_loss: 2.2621 - val_accuracy: 0.3221 - 12s/epoch - 6ms/step\n",
            "Epoch 13/50\n",
            "2070/2070 - 11s - loss: 2.1709 - accuracy: 0.3397 - val_loss: 2.2544 - val_accuracy: 0.3263 - 11s/epoch - 5ms/step\n",
            "Epoch 14/50\n",
            "2070/2070 - 12s - loss: 2.1557 - accuracy: 0.3469 - val_loss: 2.2520 - val_accuracy: 0.3269 - 12s/epoch - 6ms/step\n",
            "Epoch 15/50\n",
            "2070/2070 - 11s - loss: 2.1425 - accuracy: 0.3513 - val_loss: 2.2482 - val_accuracy: 0.3279 - 11s/epoch - 5ms/step\n",
            "Epoch 16/50\n",
            "2070/2070 - 12s - loss: 2.1294 - accuracy: 0.3565 - val_loss: 2.2463 - val_accuracy: 0.3320 - 12s/epoch - 6ms/step\n",
            "Epoch 17/50\n",
            "2070/2070 - 12s - loss: 2.1181 - accuracy: 0.3612 - val_loss: 2.2351 - val_accuracy: 0.3320 - 12s/epoch - 6ms/step\n",
            "Epoch 18/50\n",
            "2070/2070 - 11s - loss: 2.1064 - accuracy: 0.3660 - val_loss: 2.2339 - val_accuracy: 0.3366 - 11s/epoch - 5ms/step\n",
            "Epoch 19/50\n",
            "2070/2070 - 11s - loss: 2.0957 - accuracy: 0.3666 - val_loss: 2.2303 - val_accuracy: 0.3386 - 11s/epoch - 5ms/step\n",
            "Epoch 20/50\n",
            "2070/2070 - 11s - loss: 2.0854 - accuracy: 0.3724 - val_loss: 2.2250 - val_accuracy: 0.3414 - 11s/epoch - 5ms/step\n",
            "Epoch 21/50\n",
            "2070/2070 - 11s - loss: 2.0764 - accuracy: 0.3760 - val_loss: 2.2210 - val_accuracy: 0.3419 - 11s/epoch - 5ms/step\n",
            "Epoch 22/50\n",
            "2070/2070 - 11s - loss: 2.0669 - accuracy: 0.3805 - val_loss: 2.2230 - val_accuracy: 0.3433 - 11s/epoch - 5ms/step\n",
            "Epoch 23/50\n",
            "2070/2070 - 12s - loss: 2.0581 - accuracy: 0.3823 - val_loss: 2.2238 - val_accuracy: 0.3457 - 12s/epoch - 6ms/step\n",
            "Epoch 24/50\n",
            "2070/2070 - 12s - loss: 2.0514 - accuracy: 0.3842 - val_loss: 2.2232 - val_accuracy: 0.3476 - 12s/epoch - 6ms/step\n",
            "Epoch 25/50\n",
            "2070/2070 - 12s - loss: 2.0431 - accuracy: 0.3879 - val_loss: 2.2152 - val_accuracy: 0.3483 - 12s/epoch - 6ms/step\n",
            "Epoch 26/50\n",
            "2070/2070 - 11s - loss: 2.0367 - accuracy: 0.3899 - val_loss: 2.2158 - val_accuracy: 0.3492 - 11s/epoch - 5ms/step\n",
            "Epoch 27/50\n",
            "2070/2070 - 12s - loss: 2.0291 - accuracy: 0.3919 - val_loss: 2.2120 - val_accuracy: 0.3517 - 12s/epoch - 6ms/step\n",
            "Epoch 28/50\n",
            "2070/2070 - 11s - loss: 2.0226 - accuracy: 0.3945 - val_loss: 2.2127 - val_accuracy: 0.3501 - 11s/epoch - 5ms/step\n",
            "Epoch 29/50\n",
            "2070/2070 - 11s - loss: 2.0164 - accuracy: 0.3964 - val_loss: 2.2072 - val_accuracy: 0.3514 - 11s/epoch - 5ms/step\n",
            "Epoch 30/50\n",
            "2070/2070 - 12s - loss: 2.0112 - accuracy: 0.3978 - val_loss: 2.2074 - val_accuracy: 0.3550 - 12s/epoch - 6ms/step\n",
            "Epoch 31/50\n",
            "2070/2070 - 11s - loss: 2.0047 - accuracy: 0.3994 - val_loss: 2.2108 - val_accuracy: 0.3510 - 11s/epoch - 5ms/step\n",
            "Epoch 32/50\n",
            "2070/2070 - 12s - loss: 1.9994 - accuracy: 0.4004 - val_loss: 2.2097 - val_accuracy: 0.3565 - 12s/epoch - 6ms/step\n",
            "Epoch 33/50\n",
            "2070/2070 - 11s - loss: 1.9944 - accuracy: 0.4012 - val_loss: 2.2068 - val_accuracy: 0.3533 - 11s/epoch - 5ms/step\n",
            "Epoch 34/50\n",
            "2070/2070 - 12s - loss: 1.9888 - accuracy: 0.4033 - val_loss: 2.2089 - val_accuracy: 0.3570 - 12s/epoch - 6ms/step\n",
            "Epoch 35/50\n",
            "2070/2070 - 11s - loss: 1.9840 - accuracy: 0.4047 - val_loss: 2.2061 - val_accuracy: 0.3572 - 11s/epoch - 5ms/step\n",
            "Epoch 36/50\n",
            "2070/2070 - 12s - loss: 1.9796 - accuracy: 0.4059 - val_loss: 2.2027 - val_accuracy: 0.3598 - 12s/epoch - 6ms/step\n",
            "Epoch 37/50\n",
            "2070/2070 - 11s - loss: 1.9747 - accuracy: 0.4096 - val_loss: 2.2075 - val_accuracy: 0.3586 - 11s/epoch - 5ms/step\n",
            "Epoch 38/50\n",
            "2070/2070 - 11s - loss: 1.9699 - accuracy: 0.4103 - val_loss: 2.2077 - val_accuracy: 0.3578 - 11s/epoch - 5ms/step\n",
            "Epoch 39/50\n",
            "2070/2070 - 12s - loss: 1.9662 - accuracy: 0.4103 - val_loss: 2.2057 - val_accuracy: 0.3606 - 12s/epoch - 6ms/step\n",
            "Epoch 40/50\n",
            "2070/2070 - 11s - loss: 1.9624 - accuracy: 0.4122 - val_loss: 2.2078 - val_accuracy: 0.3626 - 11s/epoch - 5ms/step\n",
            "Epoch 41/50\n",
            "2070/2070 - 12s - loss: 1.9588 - accuracy: 0.4130 - val_loss: 2.2091 - val_accuracy: 0.3578 - 12s/epoch - 6ms/step\n",
            "Epoch 42/50\n",
            "2070/2070 - 11s - loss: 1.9546 - accuracy: 0.4142 - val_loss: 2.2127 - val_accuracy: 0.3608 - 11s/epoch - 5ms/step\n",
            "Epoch 43/50\n",
            "2070/2070 - 12s - loss: 1.9504 - accuracy: 0.4154 - val_loss: 2.2134 - val_accuracy: 0.3602 - 12s/epoch - 6ms/step\n"
          ]
        }
      ],
      "source": [
        "h = model.fit(\n",
        "    x_train, y_train,\n",
        "    validation_data = (x_test, y_test),\n",
        "    epochs = 50, verbose = 2,\n",
        "    callbacks = [\n",
        "        tf.keras.callbacks.EarlyStopping(monitor = 'val_accuracy', patience = 3)\n",
        "    ]\n",
        ")"
      ]
    },
    {
      "cell_type": "code",
      "source": [
        "from matplotlib import pyplot as plt\n",
        "\n",
        "epochs_ran = len(h.history['loss'])\n",
        "\n",
        "plt.plot(range(0, epochs_ran), h.history['val_accuracy'], label='Validation')\n",
        "plt.plot(range(0, epochs_ran), h.history['accuracy'], label='Training')\n",
        "plt.legend()\n",
        "plt.show()"
      ],
      "metadata": {
        "colab": {
          "base_uri": "https://localhost:8080/",
          "height": 265
        },
        "id": "4SVwT5H7kfgy",
        "outputId": "a0aef0df-2f36-42b1-d172-a8279f547439"
      },
      "execution_count": null,
      "outputs": [
        {
          "output_type": "display_data",
          "data": {
            "text/plain": [
              "<Figure size 432x288 with 1 Axes>"
            ],
            "image/png": "[encoded data removed]"
          },
          "metadata": {
            "needs_background": "light"
          }
        }
      ]
    },
    {
      "cell_type": "markdown",
      "metadata": {
        "id": "UCSaqSRiiM5z"
      },
      "source": [
        "## Task 8: Generate Names!"
      ]
    },
    {
      "cell_type": "code",
      "execution_count": null,
      "metadata": {
        "id": "9f50aTRcpt24"
      },
      "outputs": [],
      "source": [
        "def generate_names(seed):\n",
        "  for i in range(0, 40):\n",
        "    seq = name_to_seq(seed)\n",
        "    padded = tf.keras.preprocessing.sequence.pad_sequences([seq], padding = 'pre' ,maxlen = max_len - 1, truncating = 'pre')\n",
        "\n",
        "    pred = model.predict(padded)[0]\n",
        "    pred_char = index_to_char[tf.argmax(pred).numpy()]\n",
        "    seed += pred_char\n",
        "\n",
        "    if pred_char == '\\t':\n",
        "      break\n",
        "  print(seed)"
      ]
    },
    {
      "cell_type": "code",
      "execution_count": null,
      "metadata": {
        "id": "faQ0FInlpt26",
        "colab": {
          "base_uri": "https://localhost:8080/"
        },
        "outputId": "39112010-9326-49f2-92c8-2ae57b170f4c"
      },
      "outputs": [
        {
          "output_type": "stream",
          "name": "stdout",
          "text": [
            "alina\t\n"
          ]
        }
      ],
      "source": [
        "generate_names('a')"
      ]
    },
    {
      "cell_type": "code",
      "source": [
        "generate_names('hang')"
      ],
      "metadata": {
        "colab": {
          "base_uri": "https://localhost:8080/"
        },
        "id": "rT-OA8B-nz0o",
        "outputId": "fb59a69d-0905-4e41-ad2c-4096854996d4"
      },
      "execution_count": null,
      "outputs": [
        {
          "output_type": "stream",
          "name": "stdout",
          "text": [
            "hangsa red\t\n"
          ]
        }
      ]
    },
    {
      "cell_type": "code",
      "source": [],
      "metadata": {
        "id": "acACfVINoFIp"
      },
      "execution_count": null,
      "outputs": []
    }
  ],
  "metadata": {
    "accelerator": "GPU",
    "colab": {
      "collapsed_sections": [],
      "provenance": [],
      "include_colab_link": true
    },
    "kernelspec": {
      "display_name": "Python 3",
      "language": "python",
      "name": "python3"
    },
    "language_info": {
      "codemirror_mode": {
        "name": "ipython",
        "version": 3
      },
      "file_extension": ".py",
      "mimetype": "text/x-python",
      "name": "python",
      "nbconvert_exporter": "python",
      "pygments_lexer": "ipython3",
      "version": "3.8.3"
    },
    "gpuClass": "standard"
  },
  "nbformat": 4,
  "nbformat_minor": 0
}